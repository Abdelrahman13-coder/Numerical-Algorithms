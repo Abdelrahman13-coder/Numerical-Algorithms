{
 "cells": [
  {
   "cell_type": "markdown",
   "id": "787fd6d1",
   "metadata": {},
   "source": [
    "## Imports"
   ]
  },
  {
   "cell_type": "code",
   "execution_count": 1,
   "id": "c48436b3",
   "metadata": {},
   "outputs": [],
   "source": [
    "import matplotlib.pyplot as plt\n",
    "%matplotlib inline\n",
    "import numpy as np\n",
    "import pandas as pd"
   ]
  },
  {
   "cell_type": "markdown",
   "id": "85eedac4",
   "metadata": {},
   "source": [
    "## SVD and eigendecomposition\n",
    "- Now that we understand the kind of decomposition done with the SVD, we want to know how the sub-transformations are found.\n",
    "- The matrices U, D and V (V here is the right singular vectors i.e. V transpose from SVD point of view) can be found by transforming A in a square matrix and by computing the eigenvectors of this square matrix. The square matrix can be obtain by multiplying the matrix A by its transpose in one way or the other:\n",
    "    - U  corresponds to the eigenvectors of A @ A.T\n",
    "    - V  corresponds to the eigenvectors of A.T @ A\n",
    "    - D  corresponds to the square root of eigenvalues A @ A.T or A.T @ A which are the same."
   ]
  },
  {
   "cell_type": "markdown",
   "id": "5858e6a2",
   "metadata": {},
   "source": [
    "### Find SVD for the matrix A:\n",
    "$$\\begin{bmatrix} 7 & 2 \\\\ 3 & 4 \\\\ 5 & 3 \\end{bmatrix}$$"
   ]
  },
  {
   "cell_type": "code",
   "execution_count": 2,
   "id": "aa4ce8a8",
   "metadata": {},
   "outputs": [],
   "source": [
    "A = np.array([[7,2],\n",
    "              [3,4],\n",
    "              [5,3]])"
   ]
  },
  {
   "cell_type": "code",
   "execution_count": 3,
   "id": "d92469dd",
   "metadata": {},
   "outputs": [],
   "source": [
    "U, D, V = np.linalg.svd(A)"
   ]
  },
  {
   "cell_type": "code",
   "execution_count": 4,
   "id": "386e7655",
   "metadata": {},
   "outputs": [
    {
     "data": {
      "text/plain": [
       "array([[-0.69366543,  0.59343205, -0.40824829],\n",
       "       [-0.4427092 , -0.79833696, -0.40824829],\n",
       "       [-0.56818732, -0.10245245,  0.81649658]])"
      ]
     },
     "execution_count": 4,
     "metadata": {},
     "output_type": "execute_result"
    }
   ],
   "source": [
    "U"
   ]
  },
  {
   "cell_type": "code",
   "execution_count": 5,
   "id": "625ac68d",
   "metadata": {},
   "outputs": [
    {
     "data": {
      "text/plain": [
       "array([10.25142677,  2.62835484])"
      ]
     },
     "execution_count": 5,
     "metadata": {},
     "output_type": "execute_result"
    }
   ],
   "source": [
    "D"
   ]
  },
  {
   "cell_type": "code",
   "execution_count": 6,
   "id": "24aad42b",
   "metadata": {},
   "outputs": [
    {
     "data": {
      "text/plain": [
       "array([[-0.88033817, -0.47434662],\n",
       "       [ 0.47434662, -0.88033817]])"
      ]
     },
     "execution_count": 6,
     "metadata": {},
     "output_type": "execute_result"
    }
   ],
   "source": [
    "V"
   ]
  },
  {
   "cell_type": "markdown",
   "id": "66a9c3fd",
   "metadata": {},
   "source": [
    "### Find the eigenvectors for A @ A.T and compare with the U obtained from SVD.\n",
    "\n",
    "[Printing Right eigenvectors of the given square array](https://www.geeksforgeeks.org/how-to-compute-the-eigenvalues-and-right-eigenvectors-of-a-given-square-array-using-numpy/)"
   ]
  },
  {
   "cell_type": "code",
   "execution_count": 7,
   "id": "c5fedd10",
   "metadata": {},
   "outputs": [
    {
     "data": {
      "text/plain": [
       "array([[ 0.69366543,  0.59343205, -0.40824829],\n",
       "       [ 0.4427092 , -0.79833696, -0.40824829],\n",
       "       [ 0.56818732, -0.10245245,  0.81649658]])"
      ]
     },
     "execution_count": 7,
     "metadata": {},
     "output_type": "execute_result"
    }
   ],
   "source": [
    "np.linalg.eig(-A@A.T)[1]"
   ]
  },
  {
   "cell_type": "code",
   "execution_count": 8,
   "id": "43e0b7af",
   "metadata": {},
   "outputs": [
    {
     "data": {
      "text/plain": [
       "array([[-0.69366543,  0.59343205, -0.40824829],\n",
       "       [-0.4427092 , -0.79833696, -0.40824829],\n",
       "       [-0.56818732, -0.10245245,  0.81649658]])"
      ]
     },
     "execution_count": 8,
     "metadata": {},
     "output_type": "execute_result"
    }
   ],
   "source": [
    "#left singular value\n",
    "U"
   ]
  },
  {
   "cell_type": "markdown",
   "id": "ce4b8015",
   "metadata": {},
   "source": [
    "### Find the eigenvectors for  A.T @ A and compare with the V obtained from SVD."
   ]
  },
  {
   "cell_type": "code",
   "execution_count": 9,
   "id": "59f3f1ea",
   "metadata": {},
   "outputs": [
    {
     "data": {
      "text/plain": [
       "array([[-0.88033817,  0.47434662],\n",
       "       [-0.47434662, -0.88033817]])"
      ]
     },
     "execution_count": 9,
     "metadata": {},
     "output_type": "execute_result"
    }
   ],
   "source": [
    "np.linalg.eig(-A.T@A)[1]"
   ]
  },
  {
   "cell_type": "code",
   "execution_count": 10,
   "id": "8acdb836",
   "metadata": {},
   "outputs": [
    {
     "data": {
      "text/plain": [
       "array([[-0.88033817, -0.47434662],\n",
       "       [ 0.47434662, -0.88033817]])"
      ]
     },
     "execution_count": 10,
     "metadata": {},
     "output_type": "execute_result"
    }
   ],
   "source": [
    "# The right-singular values\n",
    "V"
   ]
  },
  {
   "cell_type": "markdown",
   "id": "a71a0f44",
   "metadata": {},
   "source": [
    "### Find the square root of the eigenvalues for A @ A.T or  A.T @ A and compare with D obtained from SVD`m"
   ]
  },
  {
   "cell_type": "code",
   "execution_count": 11,
   "id": "e69a9933",
   "metadata": {},
   "outputs": [
    {
     "data": {
      "text/plain": [
       "array([10.25142677,  2.62835484])"
      ]
     },
     "execution_count": 11,
     "metadata": {},
     "output_type": "execute_result"
    }
   ],
   "source": [
    "np.sqrt(np.linalg.eig(A.T@A)[0])"
   ]
  },
  {
   "cell_type": "code",
   "execution_count": 12,
   "id": "66795d90",
   "metadata": {},
   "outputs": [
    {
     "data": {
      "text/plain": [
       "array([10.25142677,  2.62835484])"
      ]
     },
     "execution_count": 12,
     "metadata": {},
     "output_type": "execute_result"
    }
   ],
   "source": [
    "# The nonzero singular values\n",
    "D"
   ]
  }
 ],
 "metadata": {
  "kernelspec": {
   "display_name": "Python 3 (ipykernel)",
   "language": "python",
   "name": "python3"
  },
  "language_info": {
   "codemirror_mode": {
    "name": "ipython",
    "version": 3
   },
   "file_extension": ".py",
   "mimetype": "text/x-python",
   "name": "python",
   "nbconvert_exporter": "python",
   "pygments_lexer": "ipython3",
   "version": "3.9.12"
  }
 },
 "nbformat": 4,
 "nbformat_minor": 5
}
