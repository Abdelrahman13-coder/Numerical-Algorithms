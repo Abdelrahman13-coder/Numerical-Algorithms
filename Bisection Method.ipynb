{
 "cells": [
  {
   "cell_type": "code",
   "execution_count": 1,
   "id": "78f91780",
   "metadata": {},
   "outputs": [],
   "source": [
    "import matplotlib.pyplot as plt\n",
    "%matplotlib inline\n",
    "import numpy as np\n",
    "import pandas as pd"
   ]
  },
  {
   "cell_type": "markdown",
   "id": "0e22fb1f",
   "metadata": {},
   "source": [
    "## Bisection Method\n",
    "- Implement the <b>bisection method</b> as a function and solve the following equations:\n",
    "    - 𝒇(𝒙)=𝒙^𝟑−𝒙−𝟐,          𝒙∈[𝟏,𝟐]\n",
    "    - 𝒇(𝒙)=𝒙^2−𝟐,          𝒙∈[0,𝟐]\n",
    "- Draw both functions and check out the roots.\n",
    "- Try your function in another intervals and check out the results.\n",
    "- [Bisection method](https://www.youtube.com/watch?v=mzQFGOvH-mk&t=10s&ab_channel=JeffreyChasnov)"
   ]
  },
  {
   "cell_type": "code",
   "execution_count": 2,
   "id": "d975dfa4",
   "metadata": {},
   "outputs": [],
   "source": [
    "def bisection(f,a,b,epsilon = 0.1,iterations=100):\n",
    "    for i in range(iterations):\n",
    "        #set midpoint\n",
    "        m = (a+b) / 2.0\n",
    "    \n",
    "        #check if a and b are in the root bound\n",
    "        if(np.sign(f(a)) == np.sign(f(b))):\n",
    "            raise Exception(\"The scalars a and b do not bound a root\")\n",
    "        \n",
    "        if np.sign(f(m)) == np.sign(f(a)):\n",
    "            a = m\n",
    "        else:\n",
    "            b = m\n",
    "        #set stop condition for convergence\n",
    "        if np.abs(f(m)) < epsilon:\n",
    "            break\n",
    "            \n",
    "    return m"
   ]
  },
  {
   "cell_type": "code",
   "execution_count": 3,
   "id": "2c26b8fb",
   "metadata": {},
   "outputs": [
    {
     "name": "stdout",
     "output_type": "stream",
     "text": [
      "r1 = 1.53125\n",
      "\n",
      "r01 = 1.521484375\n",
      "\n",
      "f(r1) = 0.059112548828125\n",
      "\n",
      "f(r01) = 0.0006221756339073181\n",
      "\n"
     ]
    }
   ],
   "source": [
    "f1 = lambda x: x**3 - x - 2\n",
    "r1 = bisection(f1,1,2,0.1)\n",
    "r01 = bisection(f1,1,2,0.01)\n",
    "print(\"r1 = {}\\n\".format(r1))\n",
    "print(\"r01 = {}\\n\".format(r01))\n",
    "print(\"f(r1) = {}\\n\".format(f1(r1)))\n",
    "print(\"f(r01) = {}\\n\".format(f1(r01)))"
   ]
  },
  {
   "cell_type": "code",
   "execution_count": 4,
   "id": "6d3ea6d2",
   "metadata": {},
   "outputs": [],
   "source": [
    "x = np.linspace(-5,5,100)"
   ]
  },
  {
   "cell_type": "code",
   "execution_count": 6,
   "id": "a3aa7bc7",
   "metadata": {},
   "outputs": [
    {
     "data": {
      "image/png": "[encoded data removed]",
      "text/plain": [
       "<Figure size 360x360 with 1 Axes>"
      ]
     },
     "metadata": {
      "needs_background": "light"
     },
     "output_type": "display_data"
    }
   ],
   "source": [
    "plt.figure(figsize = (5,5))\n",
    "plt.plot(x, f1(x))\n",
    "plt.scatter(r1, 0)\n",
    "plt.grid(True)\n",
    "plt.show()"
   ]
  },
  {
   "cell_type": "code",
   "execution_count": 7,
   "id": "10b3351e",
   "metadata": {},
   "outputs": [
    {
     "name": "stdout",
     "output_type": "stream",
     "text": [
      "r2 = 1.4375\n",
      "\n",
      "r02 = 1.4140625\n",
      "\n",
      "f(r2) = 0.06640625\n",
      "\n",
      "f(r02) = -0.00042724609375\n",
      "\n"
     ]
    }
   ],
   "source": [
    "f2 = lambda x: x**2 - 2\n",
    "r2 = bisection(f2,0,2,0.1)\n",
    "r02 = bisection(f2,0,2,0.01)\n",
    "print(\"r2 = {}\\n\".format(r2))\n",
    "print(\"r02 = {}\\n\".format(r02))\n",
    "print(\"f(r2) = {}\\n\".format(f2(r2)))\n",
    "print(\"f(r02) = {}\\n\".format(f2(r02)))"
   ]
  },
  {
   "cell_type": "code",
   "execution_count": 8,
   "id": "97abbe2d",
   "metadata": {},
   "outputs": [
    {
     "data": {
      "image/png": "[encoded data removed]",
      "text/plain": [
       "<Figure size 360x360 with 1 Axes>"
      ]
     },
     "metadata": {
      "needs_background": "light"
     },
     "output_type": "display_data"
    }
   ],
   "source": [
    "plt.figure(figsize = (5,5))\n",
    "plt.plot(x, f2(x))\n",
    "plt.scatter(r2, 0)\n",
    "plt.grid(True)\n",
    "plt.show()"
   ]
  },
  {
   "cell_type": "code",
   "execution_count": 9,
   "id": "d6379ca5",
   "metadata": {},
   "outputs": [
    {
     "ename": "Exception",
     "evalue": "The scalars a and b do not bound a root",
     "output_type": "error",
     "traceback": [
      "\u001b[1;31m---------------------------------------------------------------------------\u001b[0m",
      "\u001b[1;31mException\u001b[0m                                 Traceback (most recent call last)",
      "Input \u001b[1;32mIn [9]\u001b[0m, in \u001b[0;36m<cell line: 1>\u001b[1;34m()\u001b[0m\n\u001b[1;32m----> 1\u001b[0m r3 \u001b[38;5;241m=\u001b[39m \u001b[43mbisection\u001b[49m\u001b[43m(\u001b[49m\u001b[43mf1\u001b[49m\u001b[43m,\u001b[49m\u001b[43m \u001b[49m\u001b[38;5;241;43m-\u001b[39;49m\u001b[38;5;241;43m2\u001b[39;49m\u001b[43m,\u001b[49m\u001b[43m \u001b[49m\u001b[38;5;241;43m1\u001b[39;49m\u001b[43m,\u001b[49m\u001b[43m \u001b[49m\u001b[38;5;241;43m0.1\u001b[39;49m\u001b[43m)\u001b[49m\n",
      "Input \u001b[1;32mIn [2]\u001b[0m, in \u001b[0;36mbisection\u001b[1;34m(f, a, b, epsilon, iterations)\u001b[0m\n\u001b[0;32m      6\u001b[0m \u001b[38;5;66;03m#check if a and b are in the root bound\u001b[39;00m\n\u001b[0;32m      7\u001b[0m \u001b[38;5;28;01mif\u001b[39;00m(np\u001b[38;5;241m.\u001b[39msign(f(a)) \u001b[38;5;241m==\u001b[39m np\u001b[38;5;241m.\u001b[39msign(f(b))):\n\u001b[1;32m----> 8\u001b[0m     \u001b[38;5;28;01mraise\u001b[39;00m \u001b[38;5;167;01mException\u001b[39;00m(\u001b[38;5;124m\"\u001b[39m\u001b[38;5;124mThe scalars a and b do not bound a root\u001b[39m\u001b[38;5;124m\"\u001b[39m)\n\u001b[0;32m     10\u001b[0m \u001b[38;5;28;01mif\u001b[39;00m np\u001b[38;5;241m.\u001b[39msign(f(m)) \u001b[38;5;241m==\u001b[39m np\u001b[38;5;241m.\u001b[39msign(f(a)):\n\u001b[0;32m     11\u001b[0m     a \u001b[38;5;241m=\u001b[39m m\n",
      "\u001b[1;31mException\u001b[0m: The scalars a and b do not bound a root"
     ]
    }
   ],
   "source": [
    "r3 = bisection(f1, -2, 1, 0.1)"
   ]
  },
  {
   "cell_type": "code",
   "execution_count": null,
   "id": "71fc3b09",
   "metadata": {},
   "outputs": [],
   "source": []
  }
 ],
 "metadata": {
  "kernelspec": {
   "display_name": "Python 3 (ipykernel)",
   "language": "python",
   "name": "python3"
  },
  "language_info": {
   "codemirror_mode": {
    "name": "ipython",
    "version": 3
   },
   "file_extension": ".py",
   "mimetype": "text/x-python",
   "name": "python",
   "nbconvert_exporter": "python",
   "pygments_lexer": "ipython3",
   "version": "3.9.12"
  }
 },
 "nbformat": 4,
 "nbformat_minor": 5
}
