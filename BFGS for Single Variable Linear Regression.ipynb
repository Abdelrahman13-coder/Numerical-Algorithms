{
 "cells": [
  {
   "cell_type": "markdown",
   "id": "16943853",
   "metadata": {},
   "source": [
    "## Single Variable Linear Regression\n",
    "### Use BFGS Method to optimize a LR model for the data provided in the attached file.\n",
    "### Use Multivariable gradient descent to solve the same problem.\n",
    "### Evaluate Gradient descent solution and BFGS solution using r2_score.\n",
    "### Plot the following curves:\n",
    "#### - Cost vs. iterations.\n",
    "#### - Cost vs. each parameter.\n",
    "### Find the solution using sklearn.linear_model.LinearRegression model.\n",
    "### Compare the results from Gradient descent, BFGS, and sklearn models. Write your conclusion in brief."
   ]
  },
  {
   "cell_type": "code",
   "execution_count": null,
   "id": "5f29dc59",
   "metadata": {},
   "outputs": [],
   "source": []
  },
  {
   "cell_type": "markdown",
   "id": "aa98dffd",
   "metadata": {},
   "source": [
    "# Abdelrahman Tarek Mahmoud"
   ]
  },
  {
   "cell_type": "code",
   "execution_count": null,
   "id": "0c42fe01",
   "metadata": {},
   "outputs": [],
   "source": []
  },
  {
   "cell_type": "markdown",
   "id": "bceadbf5",
   "metadata": {},
   "source": [
    "## **Imports**"
   ]
  },
  {
   "cell_type": "code",
   "execution_count": 1,
   "id": "4a6ee84a",
   "metadata": {},
   "outputs": [],
   "source": [
    "import numpy as np\n",
    "import pandas as pd\n",
    "\n",
    "import matplotlib.pyplot as plt\n",
    "\n",
    "from sklearn.metrics import r2_score\n",
    "from sklearn.linear_model import LinearRegression"
   ]
  },
  {
   "cell_type": "code",
   "execution_count": 2,
   "id": "de0e8253",
   "metadata": {},
   "outputs": [],
   "source": [
    "df = pd.read_csv('RegData.csv', header = None)"
   ]
  },
  {
   "cell_type": "code",
   "execution_count": 3,
   "id": "6d2f162d",
   "metadata": {},
   "outputs": [
    {
     "data": {
      "text/plain": [
       "(13, 2)"
      ]
     },
     "execution_count": 3,
     "metadata": {},
     "output_type": "execute_result"
    }
   ],
   "source": [
    "df.shape"
   ]
  },
  {
   "cell_type": "code",
   "execution_count": 4,
   "id": "043dd304",
   "metadata": {},
   "outputs": [
    {
     "data": {
      "text/plain": [
       "0     2.9\n",
       "1     6.7\n",
       "2     4.9\n",
       "3     7.9\n",
       "4     9.8\n",
       "5     6.9\n",
       "6     6.1\n",
       "7     6.2\n",
       "8     6.0\n",
       "9     5.1\n",
       "10    4.7\n",
       "11    4.4\n",
       "12    5.8\n",
       "Name: 0, dtype: float64"
      ]
     },
     "execution_count": 4,
     "metadata": {},
     "output_type": "execute_result"
    }
   ],
   "source": [
    "x = df.iloc[:,0]\n",
    "x"
   ]
  },
  {
   "cell_type": "code",
   "execution_count": 5,
   "id": "27b1c15b",
   "metadata": {},
   "outputs": [
    {
     "name": "stdout",
     "output_type": "stream",
     "text": [
      "(13, 2)\n",
      "[[1.         2.9000001 ]\n",
      " [1.         6.69999981]\n",
      " [1.         4.9000001 ]\n",
      " [1.         7.9000001 ]\n",
      " [1.         9.80000019]\n",
      " [1.         6.9000001 ]\n",
      " [1.         6.0999999 ]\n",
      " [1.         6.19999981]\n",
      " [1.         6.        ]\n",
      " [1.         5.0999999 ]\n",
      " [1.         4.69999981]\n",
      " [1.         4.4000001 ]\n",
      " [1.         5.80000019]]\n"
     ]
    }
   ],
   "source": [
    "x = np.array(x).reshape(-1,1)\n",
    "X = np.hstack((np.ones((len(x),1)),x))\n",
    "print(X.shape)\n",
    "print(X)"
   ]
  },
  {
   "cell_type": "code",
   "execution_count": 6,
   "id": "e686dfc8",
   "metadata": {},
   "outputs": [
    {
     "name": "stdout",
     "output_type": "stream",
     "text": [
      "(13, 1)\n",
      "[[4.        ]\n",
      " [7.4000001 ]\n",
      " [5.        ]\n",
      " [7.19999981]\n",
      " [7.9000001 ]\n",
      " [6.0999999 ]\n",
      " [6.        ]\n",
      " [5.80000019]\n",
      " [5.19999981]\n",
      " [4.19999981]\n",
      " [4.        ]\n",
      " [4.4000001 ]\n",
      " [5.19999981]]\n"
     ]
    }
   ],
   "source": [
    "y = df.iloc[:,1]\n",
    "y = np.array(y).reshape(-1,1)\n",
    "print(y.shape)\n",
    "print(y)"
   ]
  },
  {
   "cell_type": "code",
   "execution_count": 7,
   "id": "f476eb35",
   "metadata": {},
   "outputs": [
    {
     "data": {
      "image/png": "[encoded data removed]",
      "text/plain": [
       "<Figure size 432x288 with 1 Axes>"
      ]
     },
     "metadata": {
      "needs_background": "light"
     },
     "output_type": "display_data"
    }
   ],
   "source": [
    "plt.scatter(x,y);"
   ]
  },
  {
   "cell_type": "markdown",
   "id": "a4abb939",
   "metadata": {},
   "source": [
    "## **BFGS Linear Regression Model**"
   ]
  },
  {
   "cell_type": "code",
   "execution_count": 8,
   "id": "178df069",
   "metadata": {},
   "outputs": [],
   "source": [
    "def BFGS_LR(X,Y,tol = 0.001, iterations = 40, learning_rate = 0.1):\n",
    "   \n",
    "    costs = []\n",
    "    thetas = []\n",
    "    hypothesis = []\n",
    "    b = np.eye(2)\n",
    "    \n",
    "    # randomly initialize theta\n",
    "    theta = np.random.rand(2,1).reshape(2,1)\n",
    "    theta_prev = theta - 0.5\n",
    "    \n",
    "    for i in range(iterations):\n",
    "        # calculate hypothesis\n",
    "        y_hat = np.dot(X,theta)\n",
    "        y_hat_prev = np.dot(X,theta_prev)\n",
    "        \n",
    "        hypothesis.append(y_hat)\n",
    "        # calculate error\n",
    "        e = y_hat - y\n",
    "        e_prev = y_hat_prev - y\n",
    "        # mean square error\n",
    "        mse = (np.dot(e.T,e)/(2*len(y)))[0][0]\n",
    "        mse_prev = (np.dot(e_prev.T,e_prev)/(2*len(y)))[0][0]\n",
    "        \n",
    "        costs.append(mse)\n",
    "        # calculate gradients\n",
    "        gradient = np.dot(X.T,e)/len(y)\n",
    "        gradient_prev = np.dot(X.T,e_prev)/len(y)\n",
    "        # update theta\n",
    "        delta_gradient = gradient-gradient_prev\n",
    "        delta_theta = theta - theta_prev\n",
    "        \n",
    "        # b inverse plus equation with substitution of y with delta gradient and x_delta with theta delta\n",
    "        prt_1 = (np.eye(2) - ((delta_theta@delta_gradient.T)/(delta_gradient.T@delta_theta)))\n",
    "        prt_2 = ((np.eye(2) - (delta_gradient @ delta_theta.T)/(delta_gradient.T@delta_theta)))                                                            \n",
    "        prt_3 = ((delta_theta@delta_theta.T)/(delta_gradient.T@delta_theta))\n",
    "\n",
    "        B_inv_plus = prt_1 @ b @ prt_2 + prt_3  \n",
    " \n",
    "        thetas.append(theta)\n",
    "        theta_new = theta - learning_rate * np.dot(B_inv_plus,gradient)\n",
    "        \n",
    "        # Stop condition\n",
    "        if(i>0 and np.abs(costs[i]-costs[i-1])<0.001):\n",
    "            print(\"stopped at iteration {}\".format(i))\n",
    "            break\n",
    "            \n",
    "        theta_prev=theta      \n",
    "        theta=theta_new\n",
    "    return np.array(thetas), costs, hypothesis\n"
   ]
  },
  {
   "cell_type": "code",
   "execution_count": 9,
   "id": "e45780e3",
   "metadata": {},
   "outputs": [
    {
     "name": "stdout",
     "output_type": "stream",
     "text": [
      "stopped at iteration 39\n"
     ]
    }
   ],
   "source": [
    "theta,costs ,hypothesis= BFGS_LR(X,y)"
   ]
  },
  {
   "cell_type": "code",
   "execution_count": 10,
   "id": "152688d8",
   "metadata": {},
   "outputs": [
    {
     "data": {
      "image/png": "[encoded data removed]",
      "text/plain": [
       "<Figure size 432x288 with 1 Axes>"
      ]
     },
     "metadata": {
      "needs_background": "light"
     },
     "output_type": "display_data"
    }
   ],
   "source": [
    "plt.plot(costs)\n",
    "plt.xlabel(\"Iterations\");\n",
    "plt.ylabel(\"cost function\");\n",
    "plt.title(\"Cost function vs Epoch\");"
   ]
  },
  {
   "cell_type": "code",
   "execution_count": 11,
   "id": "24f98be4",
   "metadata": {},
   "outputs": [
    {
     "data": {
      "image/png": "[encoded data removed]",
      "text/plain": [
       "<Figure size 432x288 with 1 Axes>"
      ]
     },
     "metadata": {
      "needs_background": "light"
     },
     "output_type": "display_data"
    }
   ],
   "source": [
    "plt.plot(theta[:,0],costs);\n",
    "plt.xlabel(\"Theta0\");\n",
    "plt.ylabel(\"cost function\");\n",
    "plt.title(\"Cost function vs theta0\");"
   ]
  },
  {
   "cell_type": "code",
   "execution_count": 12,
   "id": "2f1c88b5",
   "metadata": {},
   "outputs": [
    {
     "data": {
      "text/plain": [
       "0.8168739114159269"
      ]
     },
     "execution_count": 12,
     "metadata": {},
     "output_type": "execute_result"
    }
   ],
   "source": [
    "r2_score(y,hypothesis[-1])"
   ]
  },
  {
   "cell_type": "markdown",
   "id": "3a1a29d8",
   "metadata": {},
   "source": [
    "## **Multivariable Gradient Descent**"
   ]
  },
  {
   "cell_type": "code",
   "execution_count": 13,
   "id": "d51e1028",
   "metadata": {},
   "outputs": [],
   "source": [
    "def vectorized_gradient(x,y,learning_rate = 0.001,Epoch = 100):\n",
    "    theta = np.zeros((x.shape[1],1))\n",
    "    costs = []\n",
    "    thetas = []\n",
    "    hypothesis = []\n",
    "    for i in range(Epoch):\n",
    "        #calculate hypothesis\n",
    "        y_hat = np.dot(x,theta)\n",
    "        hypothesis.append(y_hat)\n",
    "        #calculate error\n",
    "        e = y_hat - y\n",
    "        #mean square error\n",
    "        mse = (np.dot(e.T,e)/(2*len(y)))[0][0]\n",
    "        thetas.append(theta.reshape(x.shape[1]))\n",
    "        costs.append(mse)\n",
    "        if(i>0 and np.abs(costs[i]-costs[i-1])<0.001):\n",
    "            print(\"stopped at iteration {}\".format(i))\n",
    "            break\n",
    "        #calculate gradients\n",
    "        gradient = np.dot(x.T,e)/len(y)\n",
    "        #update theta\n",
    "        theta = theta - learning_rate*gradient\n",
    "\n",
    "    return np.array(thetas), costs , hypothesis"
   ]
  },
  {
   "cell_type": "code",
   "execution_count": 14,
   "id": "10e28108",
   "metadata": {},
   "outputs": [
    {
     "name": "stdout",
     "output_type": "stream",
     "text": [
      "stopped at iteration 91\n"
     ]
    }
   ],
   "source": [
    "theta,costs ,hypothesis = vectorized_gradient(X,y)"
   ]
  },
  {
   "cell_type": "code",
   "execution_count": 15,
   "id": "05886e57",
   "metadata": {},
   "outputs": [
    {
     "data": {
      "image/png": "[encoded data removed]",
      "text/plain": [
       "<Figure size 432x288 with 1 Axes>"
      ]
     },
     "metadata": {
      "needs_background": "light"
     },
     "output_type": "display_data"
    }
   ],
   "source": [
    "plt.plot(costs)\n",
    "plt.xlabel(\"Iterations\");\n",
    "plt.ylabel(\"cost function\");\n",
    "plt.title(\"Cost function vs Epoch\");"
   ]
  },
  {
   "cell_type": "code",
   "execution_count": 16,
   "id": "f1047504",
   "metadata": {},
   "outputs": [
    {
     "data": {
      "image/png": "[encoded data removed]",
      "text/plain": [
       "<Figure size 432x288 with 1 Axes>"
      ]
     },
     "metadata": {
      "needs_background": "light"
     },
     "output_type": "display_data"
    }
   ],
   "source": [
    "plt.plot(theta[:,0],costs);\n",
    "plt.xlabel(\"Theta0\");\n",
    "plt.ylabel(\"cost function\");\n",
    "plt.title(\"Cost function vs theta0\");"
   ]
  },
  {
   "cell_type": "code",
   "execution_count": 17,
   "id": "021765d8",
   "metadata": {},
   "outputs": [
    {
     "data": {
      "text/plain": [
       "0.7333176762950011"
      ]
     },
     "execution_count": 17,
     "metadata": {},
     "output_type": "execute_result"
    }
   ],
   "source": [
    "r2_score(y,hypothesis[-1])"
   ]
  },
  {
   "cell_type": "markdown",
   "id": "6e95d22d",
   "metadata": {},
   "source": [
    "## **Sklearn**"
   ]
  },
  {
   "cell_type": "code",
   "execution_count": 18,
   "id": "9af7db19",
   "metadata": {},
   "outputs": [],
   "source": [
    "lr = LinearRegression().fit(X,y)"
   ]
  },
  {
   "cell_type": "code",
   "execution_count": 19,
   "id": "98e001e7",
   "metadata": {},
   "outputs": [
    {
     "data": {
      "text/plain": [
       "0.8213156778363777"
      ]
     },
     "execution_count": 19,
     "metadata": {},
     "output_type": "execute_result"
    }
   ],
   "source": [
    "r2_score(y,lr.predict(X))"
   ]
  },
  {
   "cell_type": "code",
   "execution_count": null,
   "id": "6aa2bf73",
   "metadata": {},
   "outputs": [],
   "source": []
  }
 ],
 "metadata": {
  "kernelspec": {
   "display_name": "Python 3 (ipykernel)",
   "language": "python",
   "name": "python3"
  },
  "language_info": {
   "codemirror_mode": {
    "name": "ipython",
    "version": 3
   },
   "file_extension": ".py",
   "mimetype": "text/x-python",
   "name": "python",
   "nbconvert_exporter": "python",
   "pygments_lexer": "ipython3",
   "version": "3.9.12"
  }
 },
 "nbformat": 4,
 "nbformat_minor": 5
}
